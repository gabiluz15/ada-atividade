{
  "cells": [
    {
      "cell_type": "markdown",
      "metadata": {
        "id": "view-in-github",
        "colab_type": "text"
      },
      "source": [
        "<a href=\"https://colab.research.google.com/github/gabiluz15/ada-atividade/blob/main/38e89cf3_8e9a_48ce_8ee5_077b777a0dd3.ipynb\" target=\"_parent\"><img src=\"https://colab.research.google.com/assets/colab-badge.svg\" alt=\"Open In Colab\"/></a>"
      ]
    },
    {
      "cell_type": "markdown",
      "metadata": {
        "id": "yyjYIPxr7aeD"
      },
      "source": [
        "# Aula 03 - NumPy (Parte II)"
      ]
    },
    {
      "cell_type": "markdown",
      "metadata": {
        "id": "HFqp1BHT7aeL"
      },
      "source": [
        "<img src=\"https://upload.wikimedia.org/wikipedia/commons/thumb/3/31/NumPy_logo_2020.svg/2560px-NumPy_logo_2020.svg.png\" alt=\"Alternative text\" />"
      ]
    },
    {
      "cell_type": "markdown",
      "metadata": {
        "id": "nv2D0uBc7aeL"
      },
      "source": [
        "[Guia rápido de uso da biblioteca](https://numpy.org/devdocs/user/quickstart.html)\n",
        "\n",
        "[Guia para iniciantes](https://numpy.org/devdocs/user/absolute_beginners.html)"
      ]
    },
    {
      "cell_type": "markdown",
      "metadata": {
        "id": "1JE0v-zG7aeM"
      },
      "source": [
        "Na aula passada, vimos que:\n",
        "\n",
        "- um **array** é o elemento básico por meio do qual a biblioteca *numpy* opera;\n",
        "- este elemento **difere de uma lista**, por ser homogêneo e possibilitar cálculos de uma maneira altamente eficiente;\n",
        "- a **indexação** de arrays é muito similar àquela de listas;\n",
        "- a biblioteca *numpy* fornece ferramentas para gerar arrays baseados em distribuições estatísticas (como uniforme e normal) de maneira aleatória;\n",
        "- existem diversos métodos que sumarizam alguamas propriedades dos vetores, como *.mean()*, *.std()*, entre outros."
      ]
    },
    {
      "cell_type": "markdown",
      "metadata": {
        "id": "1X4zfSFC7aeM"
      },
      "source": [
        "Na aula de hoje, vamos explorar os conceitos de **filtros** e de **matrizes** com numpy."
      ]
    },
    {
      "cell_type": "markdown",
      "metadata": {
        "id": "6ai1EAcw7aeM"
      },
      "source": [
        "___"
      ]
    },
    {
      "cell_type": "markdown",
      "metadata": {
        "id": "Iuvu6ydQ7aeN"
      },
      "source": [
        "#### Filtros (máscaras)\n",
        "\n",
        "Uma das funções mais importantes do numpy é a possibilidade de construção de **filtros**, que também são chamados de **máscaras**\n",
        "\n",
        "O objetivo dos filtros é **selecionar apenas os elementos de um array que satisfaçam determinada condição**"
      ]
    },
    {
      "cell_type": "code",
      "execution_count": 1,
      "metadata": {
        "colab": {
          "base_uri": "https://localhost:8080/"
        },
        "id": "gRWCRKkn7aeO",
        "outputId": "3e3c881e-6f2c-4d17-dc5d-adce11ed1ab8"
      },
      "outputs": [
        {
          "output_type": "execute_result",
          "data": {
            "text/plain": [
              "array([0.45139503, 0.04884556, 0.2925095 , 0.11079782, 0.97771322,\n",
              "       0.95667897, 0.33109037, 0.39373334, 0.65288658, 0.1883866 ,\n",
              "       0.54785999, 0.86598969, 0.25531242, 0.96881588, 0.65974444,\n",
              "       0.64067446, 0.94467893, 0.18828332, 0.04984037, 0.47574935])"
            ]
          },
          "metadata": {},
          "execution_count": 1
        }
      ],
      "source": [
        "# definindo um array aleatoriamente\n",
        "import numpy as np\n",
        "arr = np.random.rand(20)\n",
        "arr"
      ]
    },
    {
      "cell_type": "markdown",
      "metadata": {
        "id": "6IQ0VIse7aeP"
      },
      "source": [
        "Ao usar um **operador lógico** juntamente com um array, o numpy **aplica a operação lógica a cada um dos elementos do array**, retornando um **array de bools** com o resultado de cada uma das operações lógicas:"
      ]
    },
    {
      "cell_type": "code",
      "execution_count": 2,
      "metadata": {
        "colab": {
          "base_uri": "https://localhost:8080/"
        },
        "id": "LaxckHFF7aeQ",
        "outputId": "773cbbe2-324b-47da-dd29-6d1560600fc5"
      },
      "outputs": [
        {
          "output_type": "execute_result",
          "data": {
            "text/plain": [
              "array([ True,  True,  True,  True, False, False,  True,  True, False,\n",
              "        True, False, False,  True, False, False, False, False,  True,\n",
              "        True,  True])"
            ]
          },
          "metadata": {},
          "execution_count": 2
        }
      ],
      "source": [
        "# quais elementos do array são menores que 0.5?\n",
        "arr < 0.5"
      ]
    },
    {
      "cell_type": "code",
      "execution_count": 3,
      "metadata": {
        "colab": {
          "base_uri": "https://localhost:8080/"
        },
        "id": "lB0N-UT-7aeQ",
        "outputId": "fa16ff8e-bfe7-44e7-d313-368a0e00cd40"
      },
      "outputs": [
        {
          "output_type": "execute_result",
          "data": {
            "text/plain": [
              "array([False, False, False, False,  True,  True, False, False,  True,\n",
              "       False,  True,  True, False,  True,  True,  True,  True, False,\n",
              "       False, False])"
            ]
          },
          "metadata": {},
          "execution_count": 3
        }
      ],
      "source": [
        "# Quantos elementos são maiores que 0.5?\n",
        "(arr > 0.5)"
      ]
    },
    {
      "cell_type": "code",
      "execution_count": 4,
      "metadata": {
        "colab": {
          "base_uri": "https://localhost:8080/"
        },
        "id": "tLnHbHu27aeR",
        "outputId": "963ce304-3ae1-471c-d7fa-f4c7bfc75f41"
      },
      "outputs": [
        {
          "output_type": "execute_result",
          "data": {
            "text/plain": [
              "20"
            ]
          },
          "metadata": {},
          "execution_count": 4
        }
      ],
      "source": [
        "(arr > 0.5).size"
      ]
    },
    {
      "cell_type": "code",
      "execution_count": 5,
      "metadata": {
        "colab": {
          "base_uri": "https://localhost:8080/"
        },
        "id": "2IODn-8Z7aeR",
        "outputId": "0bd35dd1-aa0c-4c2f-9d08-bda0890d0e9d"
      },
      "outputs": [
        {
          "output_type": "execute_result",
          "data": {
            "text/plain": [
              "9"
            ]
          },
          "metadata": {},
          "execution_count": 5
        }
      ],
      "source": [
        "(arr > 0.5).sum()"
      ]
    },
    {
      "cell_type": "markdown",
      "metadata": {
        "id": "enw_bZP47aeS"
      },
      "source": [
        "Uma vez criado o filtro, é possível **utilizá-lo como indexador do array**, para selecionar **apenas os elementos com indice correspondente a True no filtro**"
      ]
    },
    {
      "cell_type": "code",
      "execution_count": 6,
      "metadata": {
        "colab": {
          "base_uri": "https://localhost:8080/"
        },
        "id": "y8_hbhvP7aeS",
        "outputId": "2c4e5e12-0fe9-4737-adf6-5d2e6af74db2"
      },
      "outputs": [
        {
          "output_type": "execute_result",
          "data": {
            "text/plain": [
              "array([0.45139503, 0.04884556, 0.2925095 , 0.11079782, 0.97771322,\n",
              "       0.95667897, 0.33109037, 0.39373334, 0.65288658, 0.1883866 ,\n",
              "       0.54785999, 0.86598969, 0.25531242, 0.96881588, 0.65974444,\n",
              "       0.64067446, 0.94467893, 0.18828332, 0.04984037, 0.47574935])"
            ]
          },
          "metadata": {},
          "execution_count": 6
        }
      ],
      "source": [
        "arr"
      ]
    },
    {
      "cell_type": "code",
      "execution_count": 7,
      "metadata": {
        "colab": {
          "base_uri": "https://localhost:8080/"
        },
        "id": "qpj2--Ke7aeS",
        "outputId": "e262efcd-f85b-4001-8f4a-2cd1dc3e92a5"
      },
      "outputs": [
        {
          "output_type": "execute_result",
          "data": {
            "text/plain": [
              "array([0.45139503, 0.04884556, 0.2925095 , 0.11079782, 0.33109037,\n",
              "       0.39373334, 0.1883866 , 0.25531242, 0.18828332, 0.04984037,\n",
              "       0.47574935])"
            ]
          },
          "metadata": {},
          "execution_count": 7
        }
      ],
      "source": [
        "# quero elementos do \"arr\" que satisfaçam uma dada condição (ser menor que 0.5)\n",
        "arr[arr < 0.5]"
      ]
    },
    {
      "cell_type": "code",
      "execution_count": 8,
      "metadata": {
        "colab": {
          "base_uri": "https://localhost:8080/"
        },
        "id": "vYefTog57aeT",
        "outputId": "e03192fd-fdd0-4e64-ab9d-3272347b3dd2"
      },
      "outputs": [
        {
          "output_type": "execute_result",
          "data": {
            "text/plain": [
              "array([0.97771322, 0.95667897, 0.65288658, 0.54785999, 0.86598969,\n",
              "       0.96881588, 0.65974444, 0.64067446, 0.94467893])"
            ]
          },
          "metadata": {},
          "execution_count": 8
        }
      ],
      "source": [
        "# quero elementos do \"arr\" que satisfaçam uma dada condição (ser maior que 0.5)\n",
        "arr[arr > 0.5]"
      ]
    },
    {
      "cell_type": "code",
      "execution_count": 9,
      "metadata": {
        "colab": {
          "base_uri": "https://localhost:8080/"
        },
        "id": "gmCixFPY7aeT",
        "outputId": "4af974ed-77d6-4797-cc6c-715b7f609f82"
      },
      "outputs": [
        {
          "output_type": "execute_result",
          "data": {
            "text/plain": [
              "array([], dtype=float64)"
            ]
          },
          "metadata": {},
          "execution_count": 9
        }
      ],
      "source": [
        "# quero elementos do \"arr\" que satisfaçam uma dada condição (ser igual a 0.5)\n",
        "arr[arr == 0.5]"
      ]
    },
    {
      "cell_type": "markdown",
      "metadata": {
        "id": "bq29JzI07aeU"
      },
      "source": [
        "Mais um exemplo..."
      ]
    },
    {
      "cell_type": "code",
      "execution_count": 10,
      "metadata": {
        "colab": {
          "base_uri": "https://localhost:8080/"
        },
        "id": "IvAmfzlI7aeU",
        "outputId": "6aea26d3-8476-450a-c31f-d413fbdf03e0"
      },
      "outputs": [
        {
          "output_type": "execute_result",
          "data": {
            "text/plain": [
              "array([66, 41, 10, 75, 29, 95, 27, 31, 41, 70,  1, 42, 76, 64, 31, 50, 30,\n",
              "       20, 42, 64])"
            ]
          },
          "metadata": {},
          "execution_count": 10
        }
      ],
      "source": [
        "# definindo um novo array aleatório de inteiros\n",
        "\n",
        "ints = np.random.randint(0, 100, 20)\n",
        "ints"
      ]
    },
    {
      "cell_type": "code",
      "execution_count": 11,
      "metadata": {
        "colab": {
          "base_uri": "https://localhost:8080/"
        },
        "id": "K8G-LgzL7aeV",
        "outputId": "cf555950-3583-48da-8c48-29fb56a576d0"
      },
      "outputs": [
        {
          "output_type": "execute_result",
          "data": {
            "text/plain": [
              "array([66, 10, 70, 42, 76, 64, 50, 30, 20, 42, 64])"
            ]
          },
          "metadata": {},
          "execution_count": 11
        }
      ],
      "source": [
        "# filtrando apenas os pares\n",
        "ints[ints % 2 == 0]"
      ]
    },
    {
      "cell_type": "code",
      "execution_count": 12,
      "metadata": {
        "colab": {
          "base_uri": "https://localhost:8080/"
        },
        "id": "ZCGHpQU-7aeV",
        "outputId": "3afce159-c10f-427c-ec13-f8e99dbbface"
      },
      "outputs": [
        {
          "output_type": "execute_result",
          "data": {
            "text/plain": [
              "array([41, 75, 29, 95, 27, 31, 41,  1, 31])"
            ]
          },
          "metadata": {},
          "execution_count": 12
        }
      ],
      "source": [
        "# filtrando apenas os ímpares\n",
        "ints[ints % 2 != 0]"
      ]
    },
    {
      "cell_type": "code",
      "execution_count": 13,
      "metadata": {
        "colab": {
          "base_uri": "https://localhost:8080/"
        },
        "id": "V-GIaDUy7aeW",
        "outputId": "6f469814-7db6-45cf-aae1-2b87e10ed179"
      },
      "outputs": [
        {
          "output_type": "execute_result",
          "data": {
            "text/plain": [
              "array([41, 75, 29, 95, 27, 31, 41,  1, 31])"
            ]
          },
          "metadata": {},
          "execution_count": 13
        }
      ],
      "source": [
        "# filtrando apenas os ímpares\n",
        "ints[~(ints % 2 == 0)]"
      ]
    },
    {
      "cell_type": "code",
      "execution_count": 14,
      "metadata": {
        "colab": {
          "base_uri": "https://localhost:8080/"
        },
        "id": "DAoQFTlq7aeW",
        "outputId": "3ce9b82f-39ed-4e97-ca75-70a5feb2837d"
      },
      "outputs": [
        {
          "output_type": "execute_result",
          "data": {
            "text/plain": [
              "9"
            ]
          },
          "metadata": {},
          "execution_count": 14
        }
      ],
      "source": [
        "# quantidade de ímpáres\n",
        "ints[~(ints % 2 == 0)].size"
      ]
    },
    {
      "cell_type": "code",
      "execution_count": 15,
      "metadata": {
        "colab": {
          "base_uri": "https://localhost:8080/"
        },
        "id": "_7tmrFtk7aeW",
        "outputId": "7dfd8b03-a2b3-49c0-dff2-c17e8656a3b7"
      },
      "outputs": [
        {
          "output_type": "execute_result",
          "data": {
            "text/plain": [
              "371"
            ]
          },
          "metadata": {},
          "execution_count": 15
        }
      ],
      "source": [
        "# soma dos ímpáres\n",
        "ints[~(ints % 2 == 0)].sum()"
      ]
    },
    {
      "cell_type": "markdown",
      "metadata": {
        "id": "_SG9C3bs7aeX"
      },
      "source": [
        "[np.where](https://numpy.org/doc/stable/reference/generated/numpy.where.html)"
      ]
    },
    {
      "cell_type": "code",
      "execution_count": 16,
      "metadata": {
        "colab": {
          "base_uri": "https://localhost:8080/"
        },
        "id": "VoDt9yw77aeX",
        "outputId": "3f851ead-6c0c-4497-909d-08f8359bf487"
      },
      "outputs": [
        {
          "output_type": "execute_result",
          "data": {
            "text/plain": [
              "array([66, 41, 10, 75, 29, 95, 27, 31, 41, 70,  1, 42, 76, 64, 31, 50, 30,\n",
              "       20, 42, 64])"
            ]
          },
          "metadata": {},
          "execution_count": 16
        }
      ],
      "source": [
        "ints"
      ]
    },
    {
      "cell_type": "code",
      "execution_count": 17,
      "metadata": {
        "colab": {
          "base_uri": "https://localhost:8080/"
        },
        "id": "av_5249I7aeX",
        "outputId": "6b0417dd-a0c4-4b33-da90-d2feccea80c0"
      },
      "outputs": [
        {
          "output_type": "execute_result",
          "data": {
            "text/plain": [
              "array([66., nan, 10., nan, nan, nan, nan, nan, nan, 70., nan, 42., 76.,\n",
              "       64., nan, 50., 30., 20., 42., 64.])"
            ]
          },
          "metadata": {},
          "execution_count": 17
        }
      ],
      "source": [
        "# Filtro para ser par\n",
        "np.where(ints % 2 == 0, ints, np.nan)"
      ]
    },
    {
      "cell_type": "code",
      "execution_count": 18,
      "metadata": {
        "colab": {
          "base_uri": "https://localhost:8080/"
        },
        "id": "JRiDpqZd7aeX",
        "outputId": "b784de54-9dbb-4e53-bbd8-1227732ded59"
      },
      "outputs": [
        {
          "output_type": "execute_result",
          "data": {
            "text/plain": [
              "False"
            ]
          },
          "metadata": {},
          "execution_count": 18
        }
      ],
      "source": [
        "a = 10\n",
        "~ a > 1"
      ]
    },
    {
      "cell_type": "markdown",
      "metadata": {
        "id": "u0DB0Cc07aeX"
      },
      "source": [
        "Também é possível aplicar **filtros compostos**!\n",
        "\n",
        "Pra fazer isso, nós fazems uma **composição lógica** entre os filtros (análogo ao \"and\" e ao \"or\")\n",
        "\n",
        "No caso de arrays, usamos:\n",
        "\n",
        "- \"&\" para \"and\"\n",
        "- \"|\" para \"or\"\n",
        "- \"~\" para \"not\""
      ]
    },
    {
      "cell_type": "code",
      "execution_count": 19,
      "metadata": {
        "colab": {
          "base_uri": "https://localhost:8080/"
        },
        "id": "JzwN7jbo7aeY",
        "outputId": "f096209f-2fed-4c59-e6aa-266478f67d4a"
      },
      "outputs": [
        {
          "output_type": "execute_result",
          "data": {
            "text/plain": [
              "array([ True, False, False, False, False, False, False, False, False,\n",
              "        True, False, False,  True,  True, False, False, False, False,\n",
              "       False,  True])"
            ]
          },
          "metadata": {},
          "execution_count": 19
        }
      ],
      "source": [
        "# filtrar divisíveis por 2 e maiores que 50\n",
        "(ints % 2 == 0) & (ints > 50)"
      ]
    },
    {
      "cell_type": "code",
      "execution_count": 20,
      "metadata": {
        "colab": {
          "base_uri": "https://localhost:8080/"
        },
        "id": "oXZaWOf17aeY",
        "outputId": "1dfd81a1-d0bf-4dd3-b1ea-fa9bbc322d30"
      },
      "outputs": [
        {
          "output_type": "execute_result",
          "data": {
            "text/plain": [
              "array([66, 70, 76, 64, 64])"
            ]
          },
          "metadata": {},
          "execution_count": 20
        }
      ],
      "source": [
        "# filtrar divisíveis por 2 e maiores que 50\n",
        "ints[(ints % 2 == 0) & (ints > 50)]"
      ]
    },
    {
      "cell_type": "code",
      "execution_count": 21,
      "metadata": {
        "colab": {
          "base_uri": "https://localhost:8080/"
        },
        "id": "SyDe3vng7aeY",
        "outputId": "b387e1dc-8ffa-4107-e624-ac43bc02af0a"
      },
      "outputs": [
        {
          "output_type": "execute_result",
          "data": {
            "text/plain": [
              "array([66, 10, 75, 95, 70, 42, 76, 64, 50, 30, 20, 42, 64])"
            ]
          },
          "metadata": {},
          "execution_count": 21
        }
      ],
      "source": [
        "# filtrar divisíveis por 2 OU maiores que 50\n",
        "ints[(ints % 2 == 0) | (ints > 50)]"
      ]
    },
    {
      "cell_type": "code",
      "execution_count": 22,
      "metadata": {
        "colab": {
          "base_uri": "https://localhost:8080/"
        },
        "id": "5j_E5vPN7aeY",
        "outputId": "2389e24e-2f79-47c6-da73-c6dc61f2c7d0"
      },
      "outputs": [
        {
          "output_type": "execute_result",
          "data": {
            "text/plain": [
              "array([66, 41, 75, 29, 95, 27, 31, 41, 70,  1, 76, 64, 31, 64])"
            ]
          },
          "metadata": {},
          "execution_count": 22
        }
      ],
      "source": [
        "# filtrar ímpares OU maiores que 50\n",
        "ints[~ (ints % 2 == 0) | (ints > 50)]"
      ]
    },
    {
      "cell_type": "markdown",
      "metadata": {
        "id": "18fXD2f87aeZ"
      },
      "source": [
        "___"
      ]
    },
    {
      "cell_type": "markdown",
      "metadata": {
        "id": "BIozcxu97aeZ"
      },
      "source": [
        "### Matrizes"
      ]
    },
    {
      "cell_type": "markdown",
      "metadata": {
        "id": "2b005u-p7aeZ"
      },
      "source": [
        "Costumamos nos referir às **matrizes** como arrays multidimensionais (i.e., mais de uma dimensão)."
      ]
    },
    {
      "cell_type": "markdown",
      "metadata": {
        "id": "VMPE8hfP7aeZ"
      },
      "source": [
        "<img src = \"https://numpy.org/devdocs/_images/np_create_matrix.png\" />"
      ]
    },
    {
      "cell_type": "code",
      "execution_count": 23,
      "metadata": {
        "colab": {
          "base_uri": "https://localhost:8080/"
        },
        "id": "gYTFRSPN7aeZ",
        "outputId": "088a81a1-4a0e-4f0b-a5d7-606519329ef1"
      },
      "outputs": [
        {
          "output_type": "execute_result",
          "data": {
            "text/plain": [
              "array([[1, 2],\n",
              "       [3, 4],\n",
              "       [5, 6]])"
            ]
          },
          "metadata": {},
          "execution_count": 23
        }
      ],
      "source": [
        "data = np.array([[1,2],[3,4],[5,6]])\n",
        "data"
      ]
    },
    {
      "cell_type": "markdown",
      "metadata": {
        "id": "ODY7Ncyf7aeZ"
      },
      "source": [
        "[numpy.shape](https://numpy.org/doc/stable/reference/generated/numpy.shape.html)"
      ]
    },
    {
      "cell_type": "code",
      "execution_count": 24,
      "metadata": {
        "colab": {
          "base_uri": "https://localhost:8080/"
        },
        "id": "Owb-ySmm7aea",
        "outputId": "7ed52c34-9643-4e04-aacc-b227f44e02b0"
      },
      "outputs": [
        {
          "output_type": "execute_result",
          "data": {
            "text/plain": [
              "6"
            ]
          },
          "metadata": {},
          "execution_count": 24
        }
      ],
      "source": [
        "data.size"
      ]
    },
    {
      "cell_type": "code",
      "execution_count": 25,
      "metadata": {
        "colab": {
          "base_uri": "https://localhost:8080/"
        },
        "id": "vu__PvJ_7aea",
        "outputId": "27478c70-7c7b-4007-de5b-08344f4e61b6"
      },
      "outputs": [
        {
          "output_type": "execute_result",
          "data": {
            "text/plain": [
              "(3, 2)"
            ]
          },
          "metadata": {},
          "execution_count": 25
        }
      ],
      "source": [
        "# Retorna o formato da matriz como numero_de_linhas x numero_de_colunas\n",
        "data.shape"
      ]
    },
    {
      "cell_type": "markdown",
      "metadata": {
        "id": "JAtGRmKN7aea"
      },
      "source": [
        "#### Indexação de matrizes"
      ]
    },
    {
      "cell_type": "markdown",
      "metadata": {
        "id": "ioN7fSoR7aea"
      },
      "source": [
        "A idexação com matrizes segue a mesma lógica dos arrays. Há algumas formas de indexar o mesmo elemento, conforme ilustrado abaixo."
      ]
    },
    {
      "cell_type": "markdown",
      "metadata": {
        "id": "GdvD-2Sl7aea"
      },
      "source": [
        "Suponhamos que queiramos o elemento da segunda linha da matriz, e da segunda coluna."
      ]
    },
    {
      "cell_type": "code",
      "execution_count": 26,
      "metadata": {
        "colab": {
          "base_uri": "https://localhost:8080/"
        },
        "id": "DjRypYB_7aea",
        "outputId": "1e022102-a599-49de-a5ed-10e9dafbbec4"
      },
      "outputs": [
        {
          "output_type": "execute_result",
          "data": {
            "text/plain": [
              "array([[1, 2],\n",
              "       [3, 4],\n",
              "       [5, 6]])"
            ]
          },
          "metadata": {},
          "execution_count": 26
        }
      ],
      "source": [
        "data"
      ]
    },
    {
      "cell_type": "code",
      "execution_count": 27,
      "metadata": {
        "colab": {
          "base_uri": "https://localhost:8080/"
        },
        "id": "W-pRFVvy7aeb",
        "outputId": "2ad1dd5c-046e-4faf-d0e2-5f32fa51a732"
      },
      "outputs": [
        {
          "output_type": "execute_result",
          "data": {
            "text/plain": [
              "4"
            ]
          },
          "metadata": {},
          "execution_count": 27
        }
      ],
      "source": [
        "# ordem: linha, coluna\n",
        "data[1,1]"
      ]
    },
    {
      "cell_type": "markdown",
      "metadata": {
        "id": "eyshuMsA7aeb"
      },
      "source": [
        "Alternativamente, podemos indexar o mesmo elemento escrevendo:"
      ]
    },
    {
      "cell_type": "code",
      "execution_count": 28,
      "metadata": {
        "colab": {
          "base_uri": "https://localhost:8080/"
        },
        "id": "hO63RtpB7aeb",
        "outputId": "ec425d52-e361-465e-b6e2-2da66e7c3a54"
      },
      "outputs": [
        {
          "output_type": "execute_result",
          "data": {
            "text/plain": [
              "4"
            ]
          },
          "metadata": {},
          "execution_count": 28
        }
      ],
      "source": [
        "data[1][1]"
      ]
    },
    {
      "cell_type": "markdown",
      "metadata": {
        "id": "viVqUbqc7aeb"
      },
      "source": [
        "<img src = \"https://numpy.org/devdocs/_images/np_matrix_indexing.png\" />"
      ]
    },
    {
      "cell_type": "markdown",
      "metadata": {
        "id": "6gcgbHgJ7aeb"
      },
      "source": [
        "#### Agregações"
      ]
    },
    {
      "cell_type": "markdown",
      "metadata": {
        "id": "X5Io9vcC7aeb"
      },
      "source": [
        "Similarmente a como fizemos com **arrays**, também podemos aplicar **funções de agregação** às matrizes:"
      ]
    },
    {
      "cell_type": "code",
      "execution_count": 29,
      "metadata": {
        "colab": {
          "base_uri": "https://localhost:8080/"
        },
        "id": "tzj6Ac407aec",
        "outputId": "88c02ab2-111b-42b5-aa93-7e1a63154595"
      },
      "outputs": [
        {
          "output_type": "execute_result",
          "data": {
            "text/plain": [
              "array([[1, 2],\n",
              "       [3, 4],\n",
              "       [5, 6]])"
            ]
          },
          "metadata": {},
          "execution_count": 29
        }
      ],
      "source": [
        "data"
      ]
    },
    {
      "cell_type": "code",
      "execution_count": 30,
      "metadata": {
        "colab": {
          "base_uri": "https://localhost:8080/"
        },
        "id": "vFgq1rbZ7aec",
        "outputId": "c72d44bf-6400-450c-b4be-469b53861fae"
      },
      "outputs": [
        {
          "output_type": "execute_result",
          "data": {
            "text/plain": [
              "6"
            ]
          },
          "metadata": {},
          "execution_count": 30
        }
      ],
      "source": [
        "data.max()"
      ]
    },
    {
      "cell_type": "code",
      "execution_count": 31,
      "metadata": {
        "colab": {
          "base_uri": "https://localhost:8080/"
        },
        "id": "pKz0GCIz7aec",
        "outputId": "4671fb78-db9b-4465-bb71-7e671360a16f"
      },
      "outputs": [
        {
          "output_type": "execute_result",
          "data": {
            "text/plain": [
              "1"
            ]
          },
          "metadata": {},
          "execution_count": 31
        }
      ],
      "source": [
        "data.min()"
      ]
    },
    {
      "cell_type": "code",
      "execution_count": 32,
      "metadata": {
        "colab": {
          "base_uri": "https://localhost:8080/"
        },
        "id": "TzSSJdS87aec",
        "outputId": "367c0480-d265-4d59-989f-872a46b9b108"
      },
      "outputs": [
        {
          "output_type": "execute_result",
          "data": {
            "text/plain": [
              "21"
            ]
          },
          "metadata": {},
          "execution_count": 32
        }
      ],
      "source": [
        "data.sum()"
      ]
    },
    {
      "cell_type": "markdown",
      "metadata": {
        "id": "B0L3q6y47aec"
      },
      "source": [
        "<img src = \"https://numpy.org/devdocs/_images/np_matrix_aggregation.png\" />"
      ]
    },
    {
      "cell_type": "markdown",
      "metadata": {
        "id": "O8gy7TE97aec"
      },
      "source": [
        "Também podemos ter situações em que gostaríamos de **agregar por linhas e/ou colunas**, o que também é possível, especificando o parâmetro *axis*, conforme abaixo."
      ]
    },
    {
      "cell_type": "code",
      "execution_count": 33,
      "metadata": {
        "colab": {
          "base_uri": "https://localhost:8080/"
        },
        "id": "ZeW41NB_7aed",
        "outputId": "63c76090-797b-4a07-af1c-6db187c8badc"
      },
      "outputs": [
        {
          "output_type": "execute_result",
          "data": {
            "text/plain": [
              "array([[1, 2],\n",
              "       [3, 4],\n",
              "       [5, 6]])"
            ]
          },
          "metadata": {},
          "execution_count": 33
        }
      ],
      "source": [
        "data"
      ]
    },
    {
      "cell_type": "code",
      "execution_count": 34,
      "metadata": {
        "colab": {
          "base_uri": "https://localhost:8080/"
        },
        "id": "K7hyxYzb7aed",
        "outputId": "fff9f663-c91f-4f62-a68a-257ef9c74e25"
      },
      "outputs": [
        {
          "output_type": "execute_result",
          "data": {
            "text/plain": [
              "array([5, 6])"
            ]
          },
          "metadata": {},
          "execution_count": 34
        }
      ],
      "source": [
        "# \"axis = 0\" opera na direção das colunas, avaliando entre linhas\n",
        "data.max(axis = 0)"
      ]
    },
    {
      "cell_type": "code",
      "execution_count": 35,
      "metadata": {
        "colab": {
          "base_uri": "https://localhost:8080/"
        },
        "id": "_sHlHBZS7aed",
        "outputId": "6795daca-8c10-42c1-f7c1-4985395dcff2"
      },
      "outputs": [
        {
          "output_type": "execute_result",
          "data": {
            "text/plain": [
              "array([2, 4, 6])"
            ]
          },
          "metadata": {},
          "execution_count": 35
        }
      ],
      "source": [
        "# \"axis = 1\" opera na direação das linhas, avaliando entre colunas\n",
        "data.max(axis = 1)"
      ]
    },
    {
      "cell_type": "markdown",
      "metadata": {
        "id": "hPpLdDyP7aed"
      },
      "source": [
        "<img src = \"https://numpy.org/devdocs/_images/np_matrix_aggregation_row.png\" />"
      ]
    },
    {
      "cell_type": "markdown",
      "metadata": {
        "id": "WOUavBcM7aed"
      },
      "source": [
        "[numpy.reshape](https://numpy.org/doc/stable/reference/generated/numpy.reshape.html)"
      ]
    },
    {
      "cell_type": "markdown",
      "metadata": {
        "id": "mTX0Z5ja7aed"
      },
      "source": [
        "Em algumas situações, pode ser útil **reformatar** nosso conjunto de dados. Para isso, utilizamos a função *.reshape()*."
      ]
    },
    {
      "cell_type": "code",
      "execution_count": 36,
      "metadata": {
        "colab": {
          "base_uri": "https://localhost:8080/"
        },
        "id": "NckM32iu7aee",
        "outputId": "698cbbaf-56ad-404e-bcf0-57097b24648a"
      },
      "outputs": [
        {
          "output_type": "execute_result",
          "data": {
            "text/plain": [
              "array([0, 1, 2, 3, 4, 5, 6, 7, 8, 9])"
            ]
          },
          "metadata": {},
          "execution_count": 36
        }
      ],
      "source": [
        "# Vamos supor um vetor de 10 elementos\n",
        "dados_originais = np.arange(0,10)\n",
        "dados_originais"
      ]
    },
    {
      "cell_type": "code",
      "execution_count": 37,
      "metadata": {
        "colab": {
          "base_uri": "https://localhost:8080/"
        },
        "id": "dgXUybar7aee",
        "outputId": "76de7999-722d-432e-c0b6-75f0c47ef38e"
      },
      "outputs": [
        {
          "output_type": "execute_result",
          "data": {
            "text/plain": [
              "array([[0, 1, 2, 3, 4],\n",
              "       [5, 6, 7, 8, 9]])"
            ]
          },
          "metadata": {},
          "execution_count": 37
        }
      ],
      "source": [
        "# Vamos transformá-lo em uma matriz de duas linhas\n",
        "dados_reformatados = np.reshape(dados_originais, [2,5])\n",
        "dados_reformatados"
      ]
    },
    {
      "cell_type": "code",
      "execution_count": 38,
      "metadata": {
        "colab": {
          "base_uri": "https://localhost:8080/"
        },
        "id": "IA8jJKvT7aee",
        "outputId": "3d590979-5320-4289-cc44-fa263fe6d3c9"
      },
      "outputs": [
        {
          "output_type": "execute_result",
          "data": {
            "text/plain": [
              "(2, 5)"
            ]
          },
          "metadata": {},
          "execution_count": 38
        }
      ],
      "source": [
        "dados_reformatados.shape"
      ]
    },
    {
      "cell_type": "code",
      "execution_count": 39,
      "metadata": {
        "colab": {
          "base_uri": "https://localhost:8080/"
        },
        "id": "oruUv0kp7aee",
        "outputId": "eaa91336-4ca6-4ad1-9360-8e261d3f1507"
      },
      "outputs": [
        {
          "output_type": "execute_result",
          "data": {
            "text/plain": [
              "array([[0, 1],\n",
              "       [2, 3],\n",
              "       [4, 5],\n",
              "       [6, 7],\n",
              "       [8, 9]])"
            ]
          },
          "metadata": {},
          "execution_count": 39
        }
      ],
      "source": [
        "# Vamos transformá-lo em uma matriz de duas colunas\n",
        "dados_reformatados = np.reshape(dados_originais, [5,2])\n",
        "dados_reformatados"
      ]
    },
    {
      "cell_type": "code",
      "execution_count": 40,
      "metadata": {
        "colab": {
          "base_uri": "https://localhost:8080/"
        },
        "id": "zR2KwDnR7aee",
        "outputId": "472d5036-627b-43f7-ff6c-3801664e612c"
      },
      "outputs": [
        {
          "output_type": "execute_result",
          "data": {
            "text/plain": [
              "(5, 2)"
            ]
          },
          "metadata": {},
          "execution_count": 40
        }
      ],
      "source": [
        "dados_reformatados.shape"
      ]
    },
    {
      "cell_type": "markdown",
      "metadata": {
        "id": "fSVxRm5S7aef"
      },
      "source": [
        "**Atenção:** ao utilizar o reshape, o número de elementos total nunca pode ser alterado!"
      ]
    },
    {
      "cell_type": "code",
      "execution_count": 41,
      "metadata": {
        "colab": {
          "base_uri": "https://localhost:8080/",
          "height": 363
        },
        "id": "rjU_ZQFO7aef",
        "outputId": "441cf01a-2bd2-4ebe-e948-818c70479ab5"
      },
      "outputs": [
        {
          "output_type": "error",
          "ename": "ValueError",
          "evalue": "ignored",
          "traceback": [
            "\u001b[0;31m---------------------------------------------------------------------------\u001b[0m",
            "\u001b[0;31mValueError\u001b[0m                                Traceback (most recent call last)",
            "\u001b[0;32m<ipython-input-41-30f21ae41519>\u001b[0m in \u001b[0;36m<module>\u001b[0;34m\u001b[0m\n\u001b[0;32m----> 1\u001b[0;31m \u001b[0mnp\u001b[0m\u001b[0;34m.\u001b[0m\u001b[0mreshape\u001b[0m\u001b[0;34m(\u001b[0m\u001b[0mdados_originais\u001b[0m\u001b[0;34m,\u001b[0m \u001b[0;34m[\u001b[0m\u001b[0;36m3\u001b[0m\u001b[0;34m,\u001b[0m\u001b[0;36m3\u001b[0m\u001b[0;34m]\u001b[0m\u001b[0;34m)\u001b[0m\u001b[0;34m\u001b[0m\u001b[0;34m\u001b[0m\u001b[0m\n\u001b[0m",
            "\u001b[0;32m<__array_function__ internals>\u001b[0m in \u001b[0;36mreshape\u001b[0;34m(*args, **kwargs)\u001b[0m\n",
            "\u001b[0;32m/usr/local/lib/python3.8/dist-packages/numpy/core/fromnumeric.py\u001b[0m in \u001b[0;36mreshape\u001b[0;34m(a, newshape, order)\u001b[0m\n\u001b[1;32m    296\u001b[0m            [5, 6]])\n\u001b[1;32m    297\u001b[0m     \"\"\"\n\u001b[0;32m--> 298\u001b[0;31m     \u001b[0;32mreturn\u001b[0m \u001b[0m_wrapfunc\u001b[0m\u001b[0;34m(\u001b[0m\u001b[0ma\u001b[0m\u001b[0;34m,\u001b[0m \u001b[0;34m'reshape'\u001b[0m\u001b[0;34m,\u001b[0m \u001b[0mnewshape\u001b[0m\u001b[0;34m,\u001b[0m \u001b[0morder\u001b[0m\u001b[0;34m=\u001b[0m\u001b[0morder\u001b[0m\u001b[0;34m)\u001b[0m\u001b[0;34m\u001b[0m\u001b[0;34m\u001b[0m\u001b[0m\n\u001b[0m\u001b[1;32m    299\u001b[0m \u001b[0;34m\u001b[0m\u001b[0m\n\u001b[1;32m    300\u001b[0m \u001b[0;34m\u001b[0m\u001b[0m\n",
            "\u001b[0;32m/usr/local/lib/python3.8/dist-packages/numpy/core/fromnumeric.py\u001b[0m in \u001b[0;36m_wrapfunc\u001b[0;34m(obj, method, *args, **kwds)\u001b[0m\n\u001b[1;32m     55\u001b[0m \u001b[0;34m\u001b[0m\u001b[0m\n\u001b[1;32m     56\u001b[0m     \u001b[0;32mtry\u001b[0m\u001b[0;34m:\u001b[0m\u001b[0;34m\u001b[0m\u001b[0;34m\u001b[0m\u001b[0m\n\u001b[0;32m---> 57\u001b[0;31m         \u001b[0;32mreturn\u001b[0m \u001b[0mbound\u001b[0m\u001b[0;34m(\u001b[0m\u001b[0;34m*\u001b[0m\u001b[0margs\u001b[0m\u001b[0;34m,\u001b[0m \u001b[0;34m**\u001b[0m\u001b[0mkwds\u001b[0m\u001b[0;34m)\u001b[0m\u001b[0;34m\u001b[0m\u001b[0;34m\u001b[0m\u001b[0m\n\u001b[0m\u001b[1;32m     58\u001b[0m     \u001b[0;32mexcept\u001b[0m \u001b[0mTypeError\u001b[0m\u001b[0;34m:\u001b[0m\u001b[0;34m\u001b[0m\u001b[0;34m\u001b[0m\u001b[0m\n\u001b[1;32m     59\u001b[0m         \u001b[0;31m# A TypeError occurs if the object does have such a method in its\u001b[0m\u001b[0;34m\u001b[0m\u001b[0;34m\u001b[0m\u001b[0;34m\u001b[0m\u001b[0m\n",
            "\u001b[0;31mValueError\u001b[0m: cannot reshape array of size 10 into shape (3,3)"
          ]
        }
      ],
      "source": [
        "np.reshape(dados_originais, [3,3])"
      ]
    },
    {
      "cell_type": "markdown",
      "metadata": {
        "id": "frXN9cu17aef"
      },
      "source": [
        "<img src = \"https://numpy.org/devdocs/_images/np_reshape.png\" />"
      ]
    },
    {
      "cell_type": "markdown",
      "metadata": {
        "id": "thv12v5M7aef"
      },
      "source": [
        "#### Operações com matrizes"
      ]
    },
    {
      "cell_type": "code",
      "execution_count": 42,
      "metadata": {
        "colab": {
          "base_uri": "https://localhost:8080/"
        },
        "id": "W8sx7lUD7aef",
        "outputId": "d66f0dd2-9f19-466f-e9a3-7d70a5618364"
      },
      "outputs": [
        {
          "output_type": "execute_result",
          "data": {
            "text/plain": [
              "array([[6, 6],\n",
              "       [1, 4]])"
            ]
          },
          "metadata": {},
          "execution_count": 42
        }
      ],
      "source": [
        "matriz1 = np.array([[1,2], [3,4]])\n",
        "matriz2 = np.array([[5,4], [-2,0]])\n",
        "matriz1+matriz2"
      ]
    },
    {
      "cell_type": "code",
      "execution_count": 43,
      "metadata": {
        "colab": {
          "base_uri": "https://localhost:8080/"
        },
        "id": "A7NNZ_gg7aef",
        "outputId": "55748909-a903-4569-e414-938959770441"
      },
      "outputs": [
        {
          "output_type": "stream",
          "name": "stdout",
          "text": [
            "[[1 2]\n",
            " [3 4]]\n",
            "[[ 5  4]\n",
            " [-2  0]]\n"
          ]
        }
      ],
      "source": [
        "print(matriz1)\n",
        "print(matriz2)"
      ]
    },
    {
      "cell_type": "markdown",
      "metadata": {
        "id": "dkLOK9lb7aeg"
      },
      "source": [
        "<img src=\"https://numpy.org/devdocs/_images/np_matrix_arithmetic.png\" />"
      ]
    },
    {
      "cell_type": "markdown",
      "metadata": {
        "id": "Nd8MeBFW7aeg"
      },
      "source": [
        "Diferentemente com arrays unidimensionais, conseguimos operar com matriz de tamanhos diferentes, **desde que sejam essencialmente um vetor-linha ou um vetor-coluna**."
      ]
    },
    {
      "cell_type": "code",
      "execution_count": 44,
      "metadata": {
        "colab": {
          "base_uri": "https://localhost:8080/"
        },
        "id": "O4BXdkLc7aeg",
        "outputId": "1ccca45e-967e-4b58-f9fc-73069fdd41c9"
      },
      "outputs": [
        {
          "output_type": "execute_result",
          "data": {
            "text/plain": [
              "array([[2, 3],\n",
              "       [4, 5]])"
            ]
          },
          "metadata": {},
          "execution_count": 44
        }
      ],
      "source": [
        "array1 = [1,1]\n",
        "matriz1 + array1"
      ]
    },
    {
      "cell_type": "markdown",
      "metadata": {
        "id": "O0PLLqGW7aeg"
      },
      "source": [
        "<img src = \"https://numpy.org/devdocs/_images/np_matrix_broadcasting.png\" />"
      ]
    },
    {
      "cell_type": "code",
      "execution_count": 45,
      "metadata": {
        "colab": {
          "base_uri": "https://localhost:8080/"
        },
        "id": "dy56YZ4t7aeg",
        "outputId": "feddffa2-530c-44f8-979e-c11b7e94c444"
      },
      "outputs": [
        {
          "output_type": "stream",
          "name": "stdout",
          "text": [
            "[[1 2]\n",
            " [3 4]]\n",
            "[[ 5  4]\n",
            " [-2  0]]\n"
          ]
        }
      ],
      "source": [
        "print(matriz1)\n",
        "print(matriz2)"
      ]
    },
    {
      "cell_type": "code",
      "execution_count": 46,
      "metadata": {
        "colab": {
          "base_uri": "https://localhost:8080/"
        },
        "id": "NQ4nxpTm7aeh",
        "outputId": "494d5143-afc6-496e-b290-157fa200ea99"
      },
      "outputs": [
        {
          "output_type": "execute_result",
          "data": {
            "text/plain": [
              "array([[ 5,  8],\n",
              "       [-6,  0]])"
            ]
          },
          "metadata": {},
          "execution_count": 46
        }
      ],
      "source": [
        "# multiplicação elemento a elemento\n",
        "matriz1 * matriz2"
      ]
    },
    {
      "cell_type": "code",
      "execution_count": 47,
      "metadata": {
        "colab": {
          "base_uri": "https://localhost:8080/"
        },
        "id": "42L5GTxi7aeh",
        "outputId": "e7ffe286-c584-4785-e21e-9c297bd552be"
      },
      "outputs": [
        {
          "output_type": "execute_result",
          "data": {
            "text/plain": [
              "array([[ 1,  4],\n",
              "       [ 7, 12]])"
            ]
          },
          "metadata": {},
          "execution_count": 47
        }
      ],
      "source": [
        "# multiplicação de matrizes \"tradicional\"\n",
        "matriz1.dot(matriz2)"
      ]
    },
    {
      "cell_type": "markdown",
      "metadata": {
        "id": "gM_mgGWj7aei"
      },
      "source": [
        "Transpor a matriz equivale a \"trocar\" as linhas pelas colunas."
      ]
    },
    {
      "cell_type": "code",
      "execution_count": 48,
      "metadata": {
        "colab": {
          "base_uri": "https://localhost:8080/"
        },
        "id": "Qfdp_UWX7aei",
        "outputId": "d9d308aa-2f28-4cf9-da60-3a5e6df636e4"
      },
      "outputs": [
        {
          "output_type": "execute_result",
          "data": {
            "text/plain": [
              "array([[1, 2],\n",
              "       [3, 4],\n",
              "       [5, 6]])"
            ]
          },
          "metadata": {},
          "execution_count": 48
        }
      ],
      "source": [
        "data"
      ]
    },
    {
      "cell_type": "code",
      "execution_count": 49,
      "metadata": {
        "colab": {
          "base_uri": "https://localhost:8080/"
        },
        "id": "MsiccFbV7aei",
        "outputId": "891025da-9b89-4197-9d70-d1d292007512"
      },
      "outputs": [
        {
          "output_type": "execute_result",
          "data": {
            "text/plain": [
              "array([[1, 3, 5],\n",
              "       [2, 4, 6]])"
            ]
          },
          "metadata": {},
          "execution_count": 49
        }
      ],
      "source": [
        "data.transpose()"
      ]
    },
    {
      "cell_type": "markdown",
      "metadata": {
        "id": "PCVCU7JN7aei"
      },
      "source": [
        "<img src = \"https://numpy.org/devdocs/_images/np_transposing_reshaping.png\" />"
      ]
    },
    {
      "cell_type": "markdown",
      "metadata": {
        "id": "a6yXEqhk7aei"
      },
      "source": [
        "#### Filtrando matrizes "
      ]
    },
    {
      "cell_type": "markdown",
      "metadata": {
        "id": "IxU_5UBR7aej"
      },
      "source": [
        "Seguimos a mesma lógica de filtros em arrays unidimensionais, com a particularidade de que estamos lidando, agora, com mais de uma dimensão - e podemos levar isso em consideração."
      ]
    },
    {
      "cell_type": "code",
      "execution_count": 50,
      "metadata": {
        "colab": {
          "base_uri": "https://localhost:8080/"
        },
        "id": "sJtaEuUw7aej",
        "outputId": "15450e9f-d58c-4d5e-a8f1-f6fc138ea122"
      },
      "outputs": [
        {
          "output_type": "execute_result",
          "data": {
            "text/plain": [
              "array([[1, 2],\n",
              "       [3, 4],\n",
              "       [5, 6]])"
            ]
          },
          "metadata": {},
          "execution_count": 50
        }
      ],
      "source": [
        "data"
      ]
    },
    {
      "cell_type": "code",
      "execution_count": 51,
      "metadata": {
        "colab": {
          "base_uri": "https://localhost:8080/"
        },
        "id": "vs0fQTY07aej",
        "outputId": "c386aedf-cda0-430c-a04b-740d9f1989de"
      },
      "outputs": [
        {
          "output_type": "execute_result",
          "data": {
            "text/plain": [
              "array([[False, False],\n",
              "       [ True,  True],\n",
              "       [ True,  True]])"
            ]
          },
          "metadata": {},
          "execution_count": 51
        }
      ],
      "source": [
        "# filtrando a matriz como um todo\n",
        "data > 2"
      ]
    },
    {
      "cell_type": "code",
      "execution_count": 52,
      "metadata": {
        "colab": {
          "base_uri": "https://localhost:8080/"
        },
        "id": "8u-mmeKe7aej",
        "outputId": "94e1d0e3-d340-411f-efc6-b23a420e5e92"
      },
      "outputs": [
        {
          "output_type": "execute_result",
          "data": {
            "text/plain": [
              "array([[1, 2],\n",
              "       [3, 4],\n",
              "       [5, 6]])"
            ]
          },
          "metadata": {},
          "execution_count": 52
        }
      ],
      "source": [
        "data"
      ]
    },
    {
      "cell_type": "code",
      "execution_count": 53,
      "metadata": {
        "colab": {
          "base_uri": "https://localhost:8080/"
        },
        "id": "hMpGj_lE7aek",
        "outputId": "706f353a-ec9d-43e5-d64b-798644778bc1"
      },
      "outputs": [
        {
          "output_type": "execute_result",
          "data": {
            "text/plain": [
              "array([False,  True])"
            ]
          },
          "metadata": {},
          "execution_count": 53
        }
      ],
      "source": [
        "# filtrando o primeiro elemento de cada coluna\n",
        "data[0,:] > 1"
      ]
    },
    {
      "cell_type": "code",
      "execution_count": 54,
      "metadata": {
        "colab": {
          "base_uri": "https://localhost:8080/"
        },
        "id": "1iqTtaPy7aek",
        "outputId": "839ab751-0112-4177-aed0-071d763f2b06"
      },
      "outputs": [
        {
          "output_type": "execute_result",
          "data": {
            "text/plain": [
              "array([False, False,  True])"
            ]
          },
          "metadata": {},
          "execution_count": 54
        }
      ],
      "source": [
        "# filtrando o segundo elemento de cada linha\n",
        "data[:,1] > 4"
      ]
    },
    {
      "cell_type": "markdown",
      "metadata": {
        "id": "1I6NDqKf7aek"
      },
      "source": [
        "Assim como fizemos anteriromente, podemos utilizar esse array booleano para indexar a matriz original."
      ]
    },
    {
      "cell_type": "code",
      "execution_count": 55,
      "metadata": {
        "colab": {
          "base_uri": "https://localhost:8080/"
        },
        "id": "kWWPijto7aek",
        "outputId": "69dbf225-9a5a-42b7-be37-1ec1b86ca917"
      },
      "outputs": [
        {
          "output_type": "execute_result",
          "data": {
            "text/plain": [
              "array([[1, 2],\n",
              "       [3, 4],\n",
              "       [5, 6]])"
            ]
          },
          "metadata": {},
          "execution_count": 55
        }
      ],
      "source": [
        "data"
      ]
    },
    {
      "cell_type": "code",
      "execution_count": 56,
      "metadata": {
        "colab": {
          "base_uri": "https://localhost:8080/"
        },
        "id": "SwZ9ruqZ7ael",
        "outputId": "5de7031e-dd24-483e-e03c-e6db8c2d7083"
      },
      "outputs": [
        {
          "output_type": "execute_result",
          "data": {
            "text/plain": [
              "array([[5, 6]])"
            ]
          },
          "metadata": {},
          "execution_count": 56
        }
      ],
      "source": [
        "data[data[:,1] > 4]"
      ]
    },
    {
      "cell_type": "markdown",
      "metadata": {
        "id": "UOVMV6Xu7ael"
      },
      "source": [
        "Um outro exemplo"
      ]
    },
    {
      "cell_type": "code",
      "execution_count": 57,
      "metadata": {
        "colab": {
          "base_uri": "https://localhost:8080/"
        },
        "id": "__qrJwJe7ael",
        "outputId": "29f1a877-7a3f-4993-f419-312df40c1b52"
      },
      "outputs": [
        {
          "output_type": "execute_result",
          "data": {
            "text/plain": [
              "array([[ 0.74917292,  0.19084514,  0.17418088,  1.83460046],\n",
              "       [ 0.07628419, -1.1133477 ,  1.2587135 ,  0.22974506],\n",
              "       [ 0.21752094,  0.95421371,  0.67387528, -1.71477576],\n",
              "       [-0.46785633, -0.05300505, -0.92683454, -0.07874151]])"
            ]
          },
          "metadata": {},
          "execution_count": 57
        }
      ],
      "source": [
        "# Vamos gerar uma matriz 4 x 4 aleatoriamente\n",
        "matriz = np.random.randn(4,4)\n",
        "matriz"
      ]
    },
    {
      "cell_type": "code",
      "execution_count": 58,
      "metadata": {
        "colab": {
          "base_uri": "https://localhost:8080/"
        },
        "id": "mfD2pbC27aem",
        "outputId": "eb83f75e-c62f-49be-ee40-ebee1e1b09f8"
      },
      "outputs": [
        {
          "output_type": "execute_result",
          "data": {
            "text/plain": [
              "array([ 0.19084514, -1.1133477 ,  0.95421371, -0.05300505])"
            ]
          },
          "metadata": {},
          "execution_count": 58
        }
      ],
      "source": [
        "matriz[:,1]"
      ]
    },
    {
      "cell_type": "code",
      "execution_count": 59,
      "metadata": {
        "colab": {
          "base_uri": "https://localhost:8080/"
        },
        "id": "KyeW5nol7aem",
        "outputId": "0c6b9275-5485-4549-ec87-739bcc56097c"
      },
      "outputs": [
        {
          "output_type": "execute_result",
          "data": {
            "text/plain": [
              "array([ True, False,  True, False])"
            ]
          },
          "metadata": {},
          "execution_count": 59
        }
      ],
      "source": [
        "# Filtremos todas as linhas cuja segunda coluna seja positiva\n",
        "matriz[:,1] > 0"
      ]
    },
    {
      "cell_type": "code",
      "execution_count": 60,
      "metadata": {
        "colab": {
          "base_uri": "https://localhost:8080/"
        },
        "id": "qZUn-2iz7aen",
        "outputId": "7973843f-a51b-4308-ce4e-00f7d9789c42"
      },
      "outputs": [
        {
          "output_type": "execute_result",
          "data": {
            "text/plain": [
              "array([[ 0.74917292,  0.17418088],\n",
              "       [ 0.07628419,  1.2587135 ],\n",
              "       [ 0.21752094,  0.67387528],\n",
              "       [-0.46785633, -0.92683454]])"
            ]
          },
          "metadata": {},
          "execution_count": 60
        }
      ],
      "source": [
        "matriz[:,matriz[:,1] > 0]"
      ]
    },
    {
      "cell_type": "code",
      "execution_count": 61,
      "metadata": {
        "colab": {
          "base_uri": "https://localhost:8080/"
        },
        "id": "KbsPWyh67aen",
        "outputId": "4f68012d-a882-4f83-cbbb-5243c1f7149b"
      },
      "outputs": [
        {
          "output_type": "execute_result",
          "data": {
            "text/plain": [
              "array([[ 0.74917292,  0.19084514,  0.17418088,  1.83460046],\n",
              "       [ 0.21752094,  0.95421371,  0.67387528, -1.71477576]])"
            ]
          },
          "metadata": {},
          "execution_count": 61
        }
      ],
      "source": [
        "# Agora, indexemos a matriz\n",
        "matriz[matriz[:,1] > 0, :]"
      ]
    },
    {
      "cell_type": "markdown",
      "metadata": {
        "id": "jG7tbwPD7aen"
      },
      "source": [
        "__________\n",
        "___________"
      ]
    },
    {
      "cell_type": "markdown",
      "metadata": {
        "id": "vARy3TPK7aeo"
      },
      "source": [
        "## Vamos praticar?"
      ]
    },
    {
      "cell_type": "markdown",
      "metadata": {
        "id": "BSgfjlaC7aeo"
      },
      "source": [
        "Em grupos, resolvam os exercícios a seguir."
      ]
    },
    {
      "cell_type": "markdown",
      "metadata": {
        "id": "4rG7coif7aeo"
      },
      "source": [
        "**1.** Em uma **análise de regressão**, usualmente estamos interessados em descrever relações entre variáveis de um dado conjunto de dados por meio de uma **função** que descreva, o tanto quanto possível, estas relações.\n",
        "\n",
        "Por exemplo, no gráfico abaixo, os pontos vermelhos relacionam as medidas das duas variáveis sendo avaliadas (nos eixos x e y); e a linha azul aproxima a relação entre elas por uma função linear."
      ]
    },
    {
      "cell_type": "markdown",
      "metadata": {
        "id": "RHoWUUrX7aeo"
      },
      "source": [
        "![Normdist_regression.png](attachment:Normdist_regression.png)"
      ]
    },
    {
      "cell_type": "markdown",
      "metadata": {
        "id": "sNchfk-37aeo"
      },
      "source": [
        "É possível ver que nem todos os pontos obedecem exatamente à relação ditada pela reta (isto é, há pontos que não estão exatamente \"sobre a reta\"; mas, sim, ligeraimente acima, ou abaixo, dela). Isto, contudo, é esperado em um modelo de regressão, por inúmeras fontes de incerteza associadas às medições."
      ]
    },
    {
      "cell_type": "markdown",
      "metadata": {
        "id": "iypfoZXH7aep"
      },
      "source": [
        "Uma das métricas que utilizamos para avaliar a qualidade de uma regressão é o **erro quadrático médio (EQM)**, que mensura a diferença total entre cada predição da regressão ($y_{prediction}$; que no nosso caso seriam os valores de y para a reta azul) com o valor real de cada i-ésima medida ($y_{i}$; que no nosso caso seriam as coordenadas y para cada ponto vermelho do gráfico). O EQM pode ser definido como:"
      ]
    },
    {
      "cell_type": "markdown",
      "metadata": {
        "id": "SXzNqN_H7aep"
      },
      "source": [
        "$EQM = \\frac{1}{n}\\sum_{i=1}^{n}(y_{prediction} - y_{i})^2$."
      ]
    },
    {
      "cell_type": "markdown",
      "metadata": {
        "id": "M1E9oZyz7aep"
      },
      "source": [
        "Isto posto, escreva uma função que calcule o EQM recebendo, como entrada, os vetores $y_{prediction}$ e $y_{i}$. Por exemplo, digamos que sua função se chame *calculate_eqm*, ela deve operar da seguinte forma:"
      ]
    },
    {
      "cell_type": "code",
      "execution_count": 70,
      "metadata": {
        "id": "M22DHHnz7aeq"
      },
      "outputs": [],
      "source": [
        "# Solução\n",
        "def calculate_eqm(y_prediction,y_i):\n",
        "    return (1/len(y_prediction)) *sum((y_prediction - y_i)**2)"
      ]
    },
    {
      "cell_type": "code",
      "execution_count": 71,
      "metadata": {
        "colab": {
          "base_uri": "https://localhost:8080/"
        },
        "id": "HoxYNRMN7aep",
        "outputId": "b597e438-6a5a-405b-8d06-7cbf7c13432f"
      },
      "outputs": [
        {
          "output_type": "execute_result",
          "data": {
            "text/plain": [
              "1.6666666666666665"
            ]
          },
          "metadata": {},
          "execution_count": 71
        }
      ],
      "source": [
        "# dados dois arrays quaisquer de mesmo tamanho, a função deve retornar o EQM\n",
        "y_prediction = np.array([1,2,3])\n",
        "y_i = np.array([0,0,3])\n",
        "calculate_eqm(y_prediction,y_i)"
      ]
    },
    {
      "cell_type": "markdown",
      "metadata": {
        "id": "HwYMdnsZ7aeq"
      },
      "source": [
        "**2.** A eletroencefalografia (EEG) é uma técnica que mensura potenciais elétricos cerebrais em diversas regiões do escalpo do paciente. Suponha que você recebeu um conjunto de dados na forma de uma matriz de 64 x 512 elementos, em que cada linha contém o sinal gravado em um dos **eletrodos** espalhados pelo escalpo em um exame de EEG, e cada coluna contém um valor de potencial elétrico, em microvolts. "
      ]
    },
    {
      "cell_type": "markdown",
      "metadata": {
        "id": "q_mVwMxu7aeq"
      },
      "source": [
        "Como o sinal de EEG é muito suscetível a ruídos externos (interferências na qualidade do sinal), uma operação comum para atenuar a interferência no sinal consiste em tirar a média do potencial elétrico de todos os eletrodos, e subtrair este valor de cada um deles. Isto atenua fontes de ruído ao sinal comuns a todos os eletrodos. Em termos matemáticos, o sinal processado por esta operação, $X_{e,i}$ para cada eletrodo (e) e amostra (i), é dado por:"
      ]
    },
    {
      "cell_type": "markdown",
      "metadata": {
        "id": "XmrI3OQg7aeq"
      },
      "source": [
        "$X_{e,i} = \\hat{X_{e,i}} - \\frac{1}{N}\\sum_{e=1}^{N}\\hat{X_{e,i}}$,\n",
        "\n",
        "em que $\\hat{X_{e,i}}$ representa o sinal original (ou seja, é a matriz de entrada de 64 x 512 elementos), e $N$ indica o total de eletrodos."
      ]
    },
    {
      "cell_type": "markdown",
      "metadata": {
        "id": "zi4Xthbl7aeq"
      },
      "source": [
        "Com o exposto acima, escreva uma função que retorne uma matriz com os sinais de EEG processados conforme a operação mencionada. Sua função deve operar conforme o exemplo abaixo."
      ]
    },
    {
      "cell_type": "code",
      "execution_count": 65,
      "metadata": {
        "colab": {
          "base_uri": "https://localhost:8080/"
        },
        "id": "IZXGPERw7aeq",
        "outputId": "10f2a8ad-d585-47b1-9518-f63f8c9dc535"
      },
      "outputs": [
        {
          "output_type": "execute_result",
          "data": {
            "text/plain": [
              "(64, 512)"
            ]
          },
          "metadata": {},
          "execution_count": 65
        }
      ],
      "source": [
        "# vamos supor uma matriz de entrada gerada por dados aleatórios\n",
        "X = np.random.randn(64,512)\n",
        "X.shape # apenas para verificar as dimensões"
      ]
    },
    {
      "cell_type": "code",
      "source": [
        "def process_EEG_signal(X):\n",
        "  return (1/len(y_prediction)) *sum((y_prediction - y_i)**2)\n"
      ],
      "metadata": {
        "id": "x-h2XnF99v8R"
      },
      "execution_count": 68,
      "outputs": []
    },
    {
      "cell_type": "code",
      "execution_count": 69,
      "metadata": {
        "colab": {
          "base_uri": "https://localhost:8080/"
        },
        "id": "4DZcqw8a7aer",
        "outputId": "e2f3449b-5540-4bce-afd2-e505fdb07bb2"
      },
      "outputs": [
        {
          "output_type": "execute_result",
          "data": {
            "text/plain": [
              "()"
            ]
          },
          "metadata": {},
          "execution_count": 69
        }
      ],
      "source": [
        "# a função deve executar a operação equacionada anteriormente, retornando uma nova matriz\n",
        "X_processado = process_EEG_signal(X)\n",
        "X_processado.shape"
      ]
    },
    {
      "cell_type": "code",
      "execution_count": 67,
      "metadata": {
        "colab": {
          "base_uri": "https://localhost:8080/",
          "height": 200
        },
        "id": "42fjASSh7aer",
        "outputId": "52400956-c1dc-4f64-d8fa-1d00ae24ef2f"
      },
      "outputs": [
        {
          "output_type": "error",
          "ename": "NameError",
          "evalue": "ignored",
          "traceback": [
            "\u001b[0;31m---------------------------------------------------------------------------\u001b[0m",
            "\u001b[0;31mNameError\u001b[0m                                 Traceback (most recent call last)",
            "\u001b[0;32m<ipython-input-67-1443130e3663>\u001b[0m in \u001b[0;36m<module>\u001b[0;34m\u001b[0m\n\u001b[1;32m      1\u001b[0m \u001b[0;31m# Somando as diferenças entre cada elemento das duas matrizes, apenas para ilustrar que elas não são iguais\u001b[0m\u001b[0;34m\u001b[0m\u001b[0;34m\u001b[0m\u001b[0;34m\u001b[0m\u001b[0m\n\u001b[0;32m----> 2\u001b[0;31m \u001b[0;34m(\u001b[0m\u001b[0mX_processado\u001b[0m \u001b[0;34m-\u001b[0m \u001b[0mX\u001b[0m\u001b[0;34m)\u001b[0m\u001b[0;34m.\u001b[0m\u001b[0msum\u001b[0m\u001b[0;34m(\u001b[0m\u001b[0;34m)\u001b[0m\u001b[0;34m\u001b[0m\u001b[0;34m\u001b[0m\u001b[0m\n\u001b[0m",
            "\u001b[0;31mNameError\u001b[0m: name 'X_processado' is not defined"
          ]
        }
      ],
      "source": [
        "# Somando as diferenças entre cada elemento das duas matrizes, apenas para ilustrar que elas não são iguais\n",
        "(X_processado - X).sum()"
      ]
    },
    {
      "cell_type": "code",
      "execution_count": null,
      "metadata": {
        "id": "1JalbmY97aes"
      },
      "outputs": [],
      "source": [
        "# Visualizando as matrizes, para verificar uma vez mais que, de fato, os elementos são diferentes\n",
        "X"
      ]
    },
    {
      "cell_type": "code",
      "execution_count": null,
      "metadata": {
        "id": "sKx-NdpH7aes"
      },
      "outputs": [],
      "source": [
        "# Matriz após o processamento descrito no enunciado\n",
        "X_processado"
      ]
    },
    {
      "cell_type": "code",
      "execution_count": null,
      "metadata": {
        "id": "xjV41DrN7aet"
      },
      "outputs": [],
      "source": [
        "# Solução"
      ]
    },
    {
      "cell_type": "markdown",
      "metadata": {
        "id": "xa6ewtBx7aet"
      },
      "source": [
        "**3.** Em estatística, um **outlier** é um valor que destoa consideravelmente da distribuição à qual está associado. Um dos critérios para idenficar outliers consiste em encontrar a **distância interquantil** (IQR), ou seja, a diferença entre o terceiro (Q3) e o primeiro quartis (Q1) da distribuição, e tomar como outliers todos os pontos abaixo de 1.5*IQR - Q1, ou acima de 1.5*IQR + Q3."
      ]
    },
    {
      "cell_type": "markdown",
      "metadata": {
        "id": "jz9FBij17aet"
      },
      "source": [
        "<img src = \"https://blog.curso-r.com/images/posts/banner/outlier.webp\" />"
      ]
    },
    {
      "cell_type": "markdown",
      "metadata": {
        "id": "xu24VgCQ7aet"
      },
      "source": [
        "Escreva uma função que, dada uma matriz de dados de entrada de dimensões $N_{observações} \\times N_{features}$ retorne três requisitos: \n",
        "- uma matriz booleana indicando a existência de outliers nos dados de entrada;\n",
        "- a quantidade de outliers\n",
        "- quem são os outliers (os valores)."
      ]
    },
    {
      "cell_type": "markdown",
      "metadata": {
        "id": "5IKyZCcA7aet"
      },
      "source": [
        "**Algumas definições:**\n",
        "- um *quantil* divide a distribuição, após ordenados os pontos, segundo algum ponto de corte;\n",
        "- o **primeiro quartil** é o ponto para o qual 25 % dos valores da distribuição estão abaixo dele;\n",
        "- o **terceiro quartil** é o ponto para o qual 75 % dos valores da distribuição estão abaixo dele.\n",
        "\n",
        "Pode ser útil consultar a função **numpy.quantile**."
      ]
    },
    {
      "cell_type": "markdown",
      "metadata": {
        "id": "gUtJ-_iU7aeu"
      },
      "source": [
        "Exemplo de operação da função:"
      ]
    },
    {
      "cell_type": "code",
      "execution_count": null,
      "metadata": {
        "id": "zzjbvbZh7aeu"
      },
      "outputs": [],
      "source": [
        "# Geremos um conjunto de dados qualquer\n",
        "X = np.random.randn(300,15)\n",
        "X"
      ]
    },
    {
      "cell_type": "code",
      "execution_count": null,
      "metadata": {
        "id": "nHzdmnz07aeu"
      },
      "outputs": [],
      "source": [
        "# identificamos os requisitos com nossa com nossa função \"locate_outliers\"\n",
        "is_outlier, outliers_count, outliers = locate_outliers(X)"
      ]
    },
    {
      "cell_type": "code",
      "execution_count": null,
      "metadata": {
        "id": "TSi4NDen7aeu"
      },
      "outputs": [],
      "source": [
        "is_outlier"
      ]
    },
    {
      "cell_type": "code",
      "execution_count": null,
      "metadata": {
        "id": "RPGnZH187aeu"
      },
      "outputs": [],
      "source": [
        "outliers_count"
      ]
    },
    {
      "cell_type": "code",
      "execution_count": null,
      "metadata": {
        "id": "6iYtZqv_7aev"
      },
      "outputs": [],
      "source": [
        "outliers"
      ]
    },
    {
      "cell_type": "code",
      "execution_count": null,
      "metadata": {
        "id": "vAJoL8SL7aev"
      },
      "outputs": [],
      "source": [
        "# Solução"
      ]
    }
  ],
  "metadata": {
    "kernelspec": {
      "display_name": "Python 3",
      "language": "python",
      "name": "python3"
    },
    "language_info": {
      "codemirror_mode": {
        "name": "ipython",
        "version": 3
      },
      "file_extension": ".py",
      "mimetype": "text/x-python",
      "name": "python",
      "nbconvert_exporter": "python",
      "pygments_lexer": "ipython3",
      "version": "3.8.5"
    },
    "colab": {
      "provenance": [],
      "include_colab_link": true
    }
  },
  "nbformat": 4,
  "nbformat_minor": 0
}